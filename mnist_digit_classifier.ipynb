{
  "cells": [
    {
      "cell_type": "markdown",
      "metadata": {
        "id": "dID-J4ToMS8z"
      },
      "source": [
        "# **Chapter 3: Classification Notes**"
      ]
    },
    {
      "cell_type": "markdown",
      "metadata": {
        "id": "PduaesSDMgAC"
      },
      "source": [
        "# Key Points"
      ]
    },
    {
      "cell_type": "markdown",
      "metadata": {
        "id": "qpQnoXWhMnjB"
      },
      "source": [
        "1. **Classification vs Regression :** Classification predicts categorical labels (\"spam\" or \"not spam\"), while regression predicts continuous values ('price').\n",
        "\n",
        "2. **MNIST Dataset introduction :** MNIST is a set of 70,000 images of handwritten digits (28x28 pixels). It's commonly used to demonstrate classification algorithms.\n",
        "\n",
        "3. **Binary Classifier :** A classifier that distinguishes between two classes only (\"is the digit a 5 or not?\"). Algorithms like SGDClassifier are trained to distinguish one class vs the rest.\n",
        "\n",
        "4. **Performance Metrics Beyond Accuracy :** Accuracy can be misleading with imbalanced datasetss. So we use;\n",
        " - **Precision:** True Positives / Predicted Positives\n",
        " - **Recall:** True Positives / Actual Positives\n",
        " - **F1 Score:** Harmonic mean of precision and recall\n",
        "5. **Decision Threshold Tuning :** Classifiers like SGDClassifieruse decision scores. Adjusting the threshold changes the balance between precision and recall.\n",
        "6. **Confusion Matrix :** A table showing true vs predicted classes. Helps identify where the model is going wrong (misclassifying 9 as 4).\n",
        "7. **Multiclass Classification Strategies :**\n",
        " - **One-vs-All (OvA):** Train one classifier per class.\n",
        " - **One-vs-One (OvO):** Train classifiers for every pair of classes. Scikit-Learn handles multiclass classification automatically for most estimators.\n",
        "8. **Multilabel Classification:** Each instance can have multiple target labels (a photo can be both \"indoor\" & \"happy\"). Implemented using MultiOutputClassifier.\n",
        "9. **Multioutput Classification:** This is multilabel with multiple outputs, useful for structured outputs (denoising images).\n",
        "10. **Error Analysis and Visualization:** Plotting confusion matrices, error images, and doing manual inspection are key to improving model performance by understanding its blind spots.\n"
      ]
    },
    {
      "cell_type": "markdown",
      "source": [
        "\n",
        "\n",
        "---\n",
        "\n"
      ],
      "metadata": {
        "id": "NWvMsNeBa4uW"
      }
    },
    {
      "cell_type": "markdown",
      "source": [
        "# **Exercise - Ch.3**"
      ],
      "metadata": {
        "id": "rRaSuV4owFvx"
      }
    },
    {
      "cell_type": "markdown",
      "source": [
        "Question:\n",
        "1. Try to build a classifier for the MNIST dataset that achieves over 97% accuracy\n",
        "on the test set. Hint: the KNeighborsClassifier works quite well for this task;\n",
        "you just need to find good hyperparameter values (try a grid search on the\n",
        "weights and n_neighbors hyperparameters)."
      ],
      "metadata": {
        "id": "sd0jZLsfwWbC"
      }
    },
    {
      "cell_type": "code",
      "source": [
        "from sklearn.datasets import fetch_openml\n",
        "from sklearn.model_selection import train_test_split, GridSearchCV\n",
        "from sklearn.neighbors import KNeighborsClassifier\n",
        "from sklearn.metrics import accuracy_score, classification_report\n",
        "\n",
        "# Load MNIST dataset\n",
        "mnist = fetch_openml('mnist_784', version=1, as_frame=False)\n",
        "X, y = mnist[\"data\"], mnist[\"target\"].astype(int)\n",
        "\n",
        "# Split into training and test sets\n",
        "X_train, X_test, y_train, y_test = train_test_split(\n",
        "    X, y, test_size=10000, stratify=y, random_state=42\n",
        ")\n",
        "\n",
        "# Create KNeighborsClassifier\n",
        "knn_clf = KNeighborsClassifier()\n",
        "\n",
        "# Grid search over n_neighbors and weights\n",
        "param_grid = {\n",
        "    'n_neighbors': [3, 4, 5],\n",
        "    'weights': ['uniform', 'distance']\n",
        "}\n",
        "\n",
        "grid_search = GridSearchCV(knn_clf, param_grid, cv=3, scoring='accuracy', n_jobs=-1, verbose=1)\n",
        "grid_search.fit(X_train, y_train)\n",
        "\n",
        "# Best model\n",
        "best_knn = grid_search.best_estimator_\n",
        "y_pred = best_knn.predict(X_test)\n",
        "\n",
        "# Evaluation\n",
        "accuracy = accuracy_score(y_test, y_pred)\n",
        "print(\"Best Hyperparameters:\", grid_search.best_params_)\n",
        "print(\"Test Accuracy:\", accuracy)\n",
        "print(classification_report(y_test, y_pred))\n"
      ],
      "metadata": {
        "colab": {
          "base_uri": "https://localhost:8080/",
          "height": 0
        },
        "id": "UBL0X8x3wj6N",
        "outputId": "30ee4f0b-1fa1-496f-9a02-f54c655f81ec"
      },
      "execution_count": 9,
      "outputs": [
        {
          "output_type": "stream",
          "name": "stdout",
          "text": [
            "Fitting 3 folds for each of 6 candidates, totalling 18 fits\n",
            "Best Hyperparameters: {'n_neighbors': 4, 'weights': 'distance'}\n",
            "Test Accuracy: 0.9759\n",
            "              precision    recall  f1-score   support\n",
            "\n",
            "           0       0.98      1.00      0.99       986\n",
            "           1       0.97      1.00      0.98      1125\n",
            "           2       0.99      0.96      0.98       999\n",
            "           3       0.98      0.97      0.97      1020\n",
            "           4       0.98      0.97      0.97       975\n",
            "           5       0.97      0.98      0.97       902\n",
            "           6       0.98      0.99      0.98       982\n",
            "           7       0.97      0.98      0.97      1042\n",
            "           8       0.99      0.94      0.97       975\n",
            "           9       0.95      0.97      0.96       994\n",
            "\n",
            "    accuracy                           0.98     10000\n",
            "   macro avg       0.98      0.98      0.98     10000\n",
            "weighted avg       0.98      0.98      0.98     10000\n",
            "\n"
          ]
        }
      ]
    },
    {
      "cell_type": "markdown",
      "source": [
        "Question:\n",
        "\n",
        "2.\n",
        "\n",
        "*   Write a function to shift an image 1 pixel in 4 directions: left, right, up, down.\n",
        "*   Augment the training set by creating 4 new shifted versions of each image.\n",
        "\n",
        "\n",
        "*   Train your best model on the augmented dataset.\n",
        "*   Evaluate the improvement in test accuracy.\n",
        "\n",
        "\n",
        "\n"
      ],
      "metadata": {
        "id": "XCiFYAy2xejX"
      }
    },
    {
      "cell_type": "code",
      "source": [
        "import numpy as np\n",
        "from scipy.ndimage import shift\n",
        "from sklearn.datasets import fetch_openml\n",
        "from sklearn.model_selection import train_test_split\n",
        "from sklearn.neighbors import KNeighborsClassifier\n",
        "from sklearn.metrics import accuracy_score\n",
        "from tqdm import tqdm\n",
        "\n",
        "# Load MNIST\n",
        "mnist = fetch_openml(\"mnist_784\", version=1, as_frame=False)\n",
        "X, y = mnist[\"data\"], mnist[\"target\"].astype(np.uint8)\n",
        "\n",
        "# Reshape to 28x28 for image manipulation\n",
        "X_images = X.reshape(-1, 28, 28)\n",
        "\n",
        "# Shift Function: returns a shifted image\n",
        "def shift_image(image, dx, dy):\n",
        "    return shift(image, [dy, dx], cval=0)\n",
        "\n",
        "# Create shifted images (left, right, up, down)\n",
        "X_augmented = []\n",
        "y_augmented = []\n",
        "\n",
        "for img, label in tqdm(zip(X_images, y), total=len(X_images)):\n",
        "    X_augmented.append(img)  # original\n",
        "    y_augmented.append(label)\n",
        "\n",
        "    X_augmented.append(shift_image(img, dx=1, dy=0))   # right\n",
        "    y_augmented.append(label)\n",
        "\n",
        "    X_augmented.append(shift_image(img, dx=-1, dy=0))  # left\n",
        "    y_augmented.append(label)\n",
        "\n",
        "    X_augmented.append(shift_image(img, dx=0, dy=1))   # down\n",
        "    y_augmented.append(label)\n",
        "\n",
        "    X_augmented.append(shift_image(img, dx=0, dy=-1))  # up\n",
        "    y_augmented.append(label)\n",
        "\n",
        "# Convert back to (n_samples, 784)\n",
        "X_augmented = np.array(X_augmented).reshape(-1, 784)\n",
        "y_augmented = np.array(y_augmented)\n",
        "\n",
        "# Split into train and test sets\n",
        "X_train, X_test, y_train, y_test = train_test_split(\n",
        "    X_augmented, y_augmented, test_size=10000, stratify=y_augmented, random_state=42\n",
        ")\n",
        "\n",
        "# Train best model (KNN with optimal hyperparameters)\n",
        "knn_clf = KNeighborsClassifier(n_neighbors=3, weights=\"distance\")\n",
        "knn_clf.fit(X_train, y_train)\n",
        "\n",
        "# Evaluate\n",
        "y_pred = knn_clf.predict(X_test)\n",
        "accuracy = accuracy_score(y_test, y_pred)\n",
        "print(\"Test Accuracy after Data Augmentation:\", accuracy)\n"
      ],
      "metadata": {
        "colab": {
          "base_uri": "https://localhost:8080/",
          "height": 0
        },
        "id": "JIHoI3nRyBIj",
        "outputId": "f006935b-ce25-4e22-c751-7c7ad11de040"
      },
      "execution_count": 11,
      "outputs": [
        {
          "output_type": "stream",
          "name": "stderr",
          "text": [
            "100%|██████████| 70000/70000 [00:55<00:00, 1256.97it/s]\n"
          ]
        },
        {
          "output_type": "stream",
          "name": "stdout",
          "text": [
            "Test Accuracy after Data Augmentation: 0.9865\n"
          ]
        }
      ]
    },
    {
      "cell_type": "markdown",
      "source": [
        "Question:\n",
        "\n",
        "3. Tackle the Titanic dataset. A great place to start is on Kaggle."
      ],
      "metadata": {
        "id": "LGf1MapH06-r"
      }
    },
    {
      "cell_type": "code",
      "source": [
        "import pandas as pd\n",
        "import seaborn as sns\n",
        "from sklearn.model_selection import train_test_split, GridSearchCV\n",
        "from sklearn.preprocessing import LabelEncoder, StandardScaler\n",
        "from sklearn.ensemble import RandomForestClassifier\n",
        "from sklearn.metrics import classification_report, confusion_matrix\n",
        "\n",
        "# Load dataset\n",
        "titanic = sns.load_dataset('titanic')\n",
        "\n",
        "# Drop irrelevant or mostly null columns\n",
        "titanic = titanic.drop(['deck', 'embark_town', 'alive', 'who', 'class', 'adult_male'], axis=1)\n",
        "\n",
        "# Drop rows with missing target\n",
        "titanic.dropna(subset=['survived'], inplace=True)\n",
        "\n",
        "# Fill missing values\n",
        "titanic['age'].fillna(titanic['age'].median(), inplace=True)\n",
        "titanic['embarked'].fillna(titanic['embarked'].mode()[0], inplace=True)\n",
        "\n",
        "# Encode categorical features\n",
        "label_enc = LabelEncoder()\n",
        "titanic['sex'] = label_enc.fit_transform(titanic['sex'])\n",
        "titanic['embarked'] = label_enc.fit_transform(titanic['embarked'])\n",
        "\n",
        "# Define features and target\n",
        "X = titanic.drop('survived', axis=1)\n",
        "y = titanic['survived']\n",
        "\n",
        "# Scale features\n",
        "scaler = StandardScaler()\n",
        "X_scaled = scaler.fit_transform(X)\n",
        "\n",
        "# Train/test split\n",
        "X_train, X_test, y_train, y_test = train_test_split(X_scaled, y, test_size=0.2, random_state=42, stratify=y)\n",
        "\n",
        "\n",
        "grid_search = GridSearchCV(RandomForestClassifier(random_state=42), param_grid, cv=3, scoring='accuracy', n_jobs=-1)\n",
        "grid_search.fit(X_train, y_train)\n",
        "\n",
        "# Evaluate best model\n",
        "best_model = grid_search.best_estimator_\n",
        "y_pred = best_model.predict(X_test)\n",
        "\n",
        "print(\"Best Parameters:\", grid_search.best_params_)\n",
        "print(\"\\nConfusion Matrix:\\n\", confusion_matrix(y_test, y_pred))\n",
        "print(\"\\nClassification Report:\\n\", classification_report(y_test, y_pred))\n",
        "\n"
      ],
      "metadata": {
        "colab": {
          "base_uri": "https://localhost:8080/",
          "height": 0
        },
        "id": "IZ0IXedc1JZI",
        "outputId": "36252058-360e-429d-96ee-88363a0a06a9"
      },
      "execution_count": 15,
      "outputs": [
        {
          "output_type": "stream",
          "name": "stderr",
          "text": [
            "<ipython-input-15-3271746020>:18: FutureWarning: A value is trying to be set on a copy of a DataFrame or Series through chained assignment using an inplace method.\n",
            "The behavior will change in pandas 3.0. This inplace method will never work because the intermediate object on which we are setting values always behaves as a copy.\n",
            "\n",
            "For example, when doing 'df[col].method(value, inplace=True)', try using 'df.method({col: value}, inplace=True)' or df[col] = df[col].method(value) instead, to perform the operation inplace on the original object.\n",
            "\n",
            "\n",
            "  titanic['age'].fillna(titanic['age'].median(), inplace=True)\n",
            "<ipython-input-15-3271746020>:19: FutureWarning: A value is trying to be set on a copy of a DataFrame or Series through chained assignment using an inplace method.\n",
            "The behavior will change in pandas 3.0. This inplace method will never work because the intermediate object on which we are setting values always behaves as a copy.\n",
            "\n",
            "For example, when doing 'df[col].method(value, inplace=True)', try using 'df.method({col: value}, inplace=True)' or df[col] = df[col].method(value) instead, to perform the operation inplace on the original object.\n",
            "\n",
            "\n",
            "  titanic['embarked'].fillna(titanic['embarked'].mode()[0], inplace=True)\n"
          ]
        },
        {
          "output_type": "stream",
          "name": "stdout",
          "text": [
            "Best Parameters: {'max_depth': 10, 'max_features': 'sqrt', 'n_estimators': 100}\n",
            "\n",
            "Confusion Matrix:\n",
            " [[95 15]\n",
            " [24 45]]\n",
            "\n",
            "Classification Report:\n",
            "               precision    recall  f1-score   support\n",
            "\n",
            "           0       0.80      0.86      0.83       110\n",
            "           1       0.75      0.65      0.70        69\n",
            "\n",
            "    accuracy                           0.78       179\n",
            "   macro avg       0.77      0.76      0.76       179\n",
            "weighted avg       0.78      0.78      0.78       179\n",
            "\n"
          ]
        }
      ]
    },
    {
      "cell_type": "markdown",
      "source": [
        "Question:\n",
        "4. Build a spam filter that classifies an email as spam or ham (not spam) with high precision (don't mark good emails as spam) and recall (don't let spam pass undetected).\n"
      ],
      "metadata": {
        "id": "afoans1N855C"
      }
    },
    {
      "cell_type": "markdown",
      "source": [
        "###  Upload the ZIP Files to Colab"
      ],
      "metadata": {
        "id": "YAF_QJv7HSgl"
      }
    },
    {
      "cell_type": "code",
      "source": [
        "from google.colab import files\n",
        "\n",
        "# Upload ZIP files from your local computer\n",
        "uploaded = files.upload()\n"
      ],
      "metadata": {
        "colab": {
          "base_uri": "https://localhost:8080/",
          "height": 110
        },
        "id": "fqiYsJ28AVQ-",
        "outputId": "1f892c8f-6c10-4dee-e69d-469851993693"
      },
      "execution_count": 28,
      "outputs": [
        {
          "output_type": "display_data",
          "data": {
            "text/plain": [
              "<IPython.core.display.HTML object>"
            ],
            "text/html": [
              "\n",
              "     <input type=\"file\" id=\"files-3cc3db4d-f15c-4b75-b0c4-bdea12841c2e\" name=\"files[]\" multiple disabled\n",
              "        style=\"border:none\" />\n",
              "     <output id=\"result-3cc3db4d-f15c-4b75-b0c4-bdea12841c2e\">\n",
              "      Upload widget is only available when the cell has been executed in the\n",
              "      current browser session. Please rerun this cell to enable.\n",
              "      </output>\n",
              "      <script>// Copyright 2017 Google LLC\n",
              "//\n",
              "// Licensed under the Apache License, Version 2.0 (the \"License\");\n",
              "// you may not use this file except in compliance with the License.\n",
              "// You may obtain a copy of the License at\n",
              "//\n",
              "//      http://www.apache.org/licenses/LICENSE-2.0\n",
              "//\n",
              "// Unless required by applicable law or agreed to in writing, software\n",
              "// distributed under the License is distributed on an \"AS IS\" BASIS,\n",
              "// WITHOUT WARRANTIES OR CONDITIONS OF ANY KIND, either express or implied.\n",
              "// See the License for the specific language governing permissions and\n",
              "// limitations under the License.\n",
              "\n",
              "/**\n",
              " * @fileoverview Helpers for google.colab Python module.\n",
              " */\n",
              "(function(scope) {\n",
              "function span(text, styleAttributes = {}) {\n",
              "  const element = document.createElement('span');\n",
              "  element.textContent = text;\n",
              "  for (const key of Object.keys(styleAttributes)) {\n",
              "    element.style[key] = styleAttributes[key];\n",
              "  }\n",
              "  return element;\n",
              "}\n",
              "\n",
              "// Max number of bytes which will be uploaded at a time.\n",
              "const MAX_PAYLOAD_SIZE = 100 * 1024;\n",
              "\n",
              "function _uploadFiles(inputId, outputId) {\n",
              "  const steps = uploadFilesStep(inputId, outputId);\n",
              "  const outputElement = document.getElementById(outputId);\n",
              "  // Cache steps on the outputElement to make it available for the next call\n",
              "  // to uploadFilesContinue from Python.\n",
              "  outputElement.steps = steps;\n",
              "\n",
              "  return _uploadFilesContinue(outputId);\n",
              "}\n",
              "\n",
              "// This is roughly an async generator (not supported in the browser yet),\n",
              "// where there are multiple asynchronous steps and the Python side is going\n",
              "// to poll for completion of each step.\n",
              "// This uses a Promise to block the python side on completion of each step,\n",
              "// then passes the result of the previous step as the input to the next step.\n",
              "function _uploadFilesContinue(outputId) {\n",
              "  const outputElement = document.getElementById(outputId);\n",
              "  const steps = outputElement.steps;\n",
              "\n",
              "  const next = steps.next(outputElement.lastPromiseValue);\n",
              "  return Promise.resolve(next.value.promise).then((value) => {\n",
              "    // Cache the last promise value to make it available to the next\n",
              "    // step of the generator.\n",
              "    outputElement.lastPromiseValue = value;\n",
              "    return next.value.response;\n",
              "  });\n",
              "}\n",
              "\n",
              "/**\n",
              " * Generator function which is called between each async step of the upload\n",
              " * process.\n",
              " * @param {string} inputId Element ID of the input file picker element.\n",
              " * @param {string} outputId Element ID of the output display.\n",
              " * @return {!Iterable<!Object>} Iterable of next steps.\n",
              " */\n",
              "function* uploadFilesStep(inputId, outputId) {\n",
              "  const inputElement = document.getElementById(inputId);\n",
              "  inputElement.disabled = false;\n",
              "\n",
              "  const outputElement = document.getElementById(outputId);\n",
              "  outputElement.innerHTML = '';\n",
              "\n",
              "  const pickedPromise = new Promise((resolve) => {\n",
              "    inputElement.addEventListener('change', (e) => {\n",
              "      resolve(e.target.files);\n",
              "    });\n",
              "  });\n",
              "\n",
              "  const cancel = document.createElement('button');\n",
              "  inputElement.parentElement.appendChild(cancel);\n",
              "  cancel.textContent = 'Cancel upload';\n",
              "  const cancelPromise = new Promise((resolve) => {\n",
              "    cancel.onclick = () => {\n",
              "      resolve(null);\n",
              "    };\n",
              "  });\n",
              "\n",
              "  // Wait for the user to pick the files.\n",
              "  const files = yield {\n",
              "    promise: Promise.race([pickedPromise, cancelPromise]),\n",
              "    response: {\n",
              "      action: 'starting',\n",
              "    }\n",
              "  };\n",
              "\n",
              "  cancel.remove();\n",
              "\n",
              "  // Disable the input element since further picks are not allowed.\n",
              "  inputElement.disabled = true;\n",
              "\n",
              "  if (!files) {\n",
              "    return {\n",
              "      response: {\n",
              "        action: 'complete',\n",
              "      }\n",
              "    };\n",
              "  }\n",
              "\n",
              "  for (const file of files) {\n",
              "    const li = document.createElement('li');\n",
              "    li.append(span(file.name, {fontWeight: 'bold'}));\n",
              "    li.append(span(\n",
              "        `(${file.type || 'n/a'}) - ${file.size} bytes, ` +\n",
              "        `last modified: ${\n",
              "            file.lastModifiedDate ? file.lastModifiedDate.toLocaleDateString() :\n",
              "                                    'n/a'} - `));\n",
              "    const percent = span('0% done');\n",
              "    li.appendChild(percent);\n",
              "\n",
              "    outputElement.appendChild(li);\n",
              "\n",
              "    const fileDataPromise = new Promise((resolve) => {\n",
              "      const reader = new FileReader();\n",
              "      reader.onload = (e) => {\n",
              "        resolve(e.target.result);\n",
              "      };\n",
              "      reader.readAsArrayBuffer(file);\n",
              "    });\n",
              "    // Wait for the data to be ready.\n",
              "    let fileData = yield {\n",
              "      promise: fileDataPromise,\n",
              "      response: {\n",
              "        action: 'continue',\n",
              "      }\n",
              "    };\n",
              "\n",
              "    // Use a chunked sending to avoid message size limits. See b/62115660.\n",
              "    let position = 0;\n",
              "    do {\n",
              "      const length = Math.min(fileData.byteLength - position, MAX_PAYLOAD_SIZE);\n",
              "      const chunk = new Uint8Array(fileData, position, length);\n",
              "      position += length;\n",
              "\n",
              "      const base64 = btoa(String.fromCharCode.apply(null, chunk));\n",
              "      yield {\n",
              "        response: {\n",
              "          action: 'append',\n",
              "          file: file.name,\n",
              "          data: base64,\n",
              "        },\n",
              "      };\n",
              "\n",
              "      let percentDone = fileData.byteLength === 0 ?\n",
              "          100 :\n",
              "          Math.round((position / fileData.byteLength) * 100);\n",
              "      percent.textContent = `${percentDone}% done`;\n",
              "\n",
              "    } while (position < fileData.byteLength);\n",
              "  }\n",
              "\n",
              "  // All done.\n",
              "  yield {\n",
              "    response: {\n",
              "      action: 'complete',\n",
              "    }\n",
              "  };\n",
              "}\n",
              "\n",
              "scope.google = scope.google || {};\n",
              "scope.google.colab = scope.google.colab || {};\n",
              "scope.google.colab._files = {\n",
              "  _uploadFiles,\n",
              "  _uploadFilesContinue,\n",
              "};\n",
              "})(self);\n",
              "</script> "
            ]
          },
          "metadata": {}
        },
        {
          "output_type": "stream",
          "name": "stdout",
          "text": [
            "Saving 20030228_spam.zip to 20030228_spam (1).zip\n",
            "Saving 20030228_easy_ham.zip to 20030228_easy_ham (1).zip\n"
          ]
        }
      ]
    },
    {
      "cell_type": "markdown",
      "source": [
        "### Unzip the Files in Colab"
      ],
      "metadata": {
        "id": "ta_HveUjHZIM"
      }
    },
    {
      "cell_type": "code",
      "source": [
        "import zipfile\n",
        "import os\n",
        "\n",
        "# Unzip easy_ham\n",
        "with zipfile.ZipFile(\"20030228_easy_ham.zip\", 'r') as zip_ref:\n",
        "    zip_ref.extractall(\"1_easy_ham\")\n",
        "\n",
        "# Unzip spam\n",
        "with zipfile.ZipFile(\"20030228_spam.zip\", 'r') as zip_ref:\n",
        "    zip_ref.extractall(\"1_spam\")\n",
        "\n",
        "# Check extracted files\n",
        "print(\"easy_ham samples:\", len(os.listdir(\"easy_ham\")))\n",
        "print(\"spam samples:\", len(os.listdir(\"spam\")))\n"
      ],
      "metadata": {
        "colab": {
          "base_uri": "https://localhost:8080/",
          "height": 0
        },
        "id": "V8AkmtRSB4Jq",
        "outputId": "0dc5f69f-2947-40fd-8a23-04d96c9bb361"
      },
      "execution_count": 29,
      "outputs": [
        {
          "output_type": "stream",
          "name": "stdout",
          "text": [
            "easy_ham samples: 1\n",
            "spam samples: 1\n"
          ]
        }
      ]
    },
    {
      "cell_type": "markdown",
      "source": [
        "# Spam Classifier Full Pipeline"
      ],
      "metadata": {
        "id": "lL2wsp2JHj1D"
      }
    },
    {
      "cell_type": "code",
      "source": [
        "import os\n",
        "import email\n",
        "from sklearn.feature_extraction.text import CountVectorizer\n",
        "from sklearn.model_selection import train_test_split\n",
        "from sklearn.naive_bayes import MultinomialNB\n",
        "from sklearn.metrics import classification_report\n",
        "\n",
        "def load_emails_from_folder(folder_path):\n",
        "    emails = []\n",
        "    for filename in os.listdir(folder_path):\n",
        "        filepath = os.path.join(folder_path, filename)\n",
        "        try:\n",
        "            with open(filepath, \"r\", encoding=\"latin-1\") as f:\n",
        "                msg = email.message_from_file(f)\n",
        "                payload = \"\"\n",
        "                if msg.is_multipart():\n",
        "                    for part in msg.walk():\n",
        "                        if part.get_content_type() == 'text/plain':\n",
        "                            payload += part.get_payload(decode=True).decode('latin-1', errors='ignore')\n",
        "                else:\n",
        "                    payload = msg.get_payload(decode=True).decode('latin-1', errors='ignore')\n",
        "                emails.append(payload)\n",
        "        except Exception as e:\n",
        "            pass  # skip unreadable files\n",
        "    return emails\n",
        "\n",
        "# Correct paths\n",
        "ham_dir = \"/content/1_easy_ham/20030228_easy_ham/easy_ham\"\n",
        "spam_dir = \"/content/1_spam/20030228_spam/spam\"\n",
        "\n",
        "# Load emails\n",
        "ham_emails = load_emails_from_folder(ham_dir)\n",
        "spam_emails = load_emails_from_folder(spam_dir)\n",
        "\n",
        "print(f\"Ham emails loaded: {len(ham_emails)}\")\n",
        "print(f\"Spam emails loaded: {len(spam_emails)}\")\n",
        "\n",
        "# Combine and label\n",
        "X_text = ham_emails + spam_emails\n",
        "y_labels = [0] * len(ham_emails) + [1] * len(spam_emails)\n",
        "\n",
        "# Text to features\n",
        "vectorizer = CountVectorizer(lowercase=True, stop_words='english')\n",
        "X = vectorizer.fit_transform(X_text)\n",
        "\n",
        "# Train/test split\n",
        "X_train, X_test, y_train, y_test = train_test_split(X, y_labels, test_size=0.2, random_state=42)\n",
        "\n",
        "# Train classifier\n",
        "clf = MultinomialNB()\n",
        "clf.fit(X_train, y_train)\n",
        "\n",
        "# Evaluate\n",
        "y_pred = clf.predict(X_test)\n",
        "print(\"\\nClassification Report:\\n\")\n",
        "print(classification_report(y_test, y_pred, target_names=[\"Ham\", \"Spam\"]))\n"
      ],
      "metadata": {
        "colab": {
          "base_uri": "https://localhost:8080/",
          "height": 0
        },
        "id": "9WjKZ5JsGNjc",
        "outputId": "81cc5679-24ea-431a-8530-501529011199"
      },
      "execution_count": 37,
      "outputs": [
        {
          "output_type": "stream",
          "name": "stdout",
          "text": [
            "Ham emails loaded: 2501\n",
            "Spam emails loaded: 501\n",
            "\n",
            "Classification Report:\n",
            "\n",
            "              precision    recall  f1-score   support\n",
            "\n",
            "         Ham       0.98      1.00      0.99       497\n",
            "        Spam       1.00      0.89      0.94       104\n",
            "\n",
            "    accuracy                           0.98       601\n",
            "   macro avg       0.99      0.95      0.97       601\n",
            "weighted avg       0.98      0.98      0.98       601\n",
            "\n"
          ]
        }
      ]
    },
    {
      "cell_type": "markdown",
      "source": [
        "\n",
        "\n",
        "---\n",
        "\n"
      ],
      "metadata": {
        "id": "cFIxZk0Nay35"
      }
    },
    {
      "cell_type": "markdown",
      "source": [
        "# **Create comparison tables for:**"
      ],
      "metadata": {
        "id": "dGrXFojaasn0"
      }
    },
    {
      "cell_type": "markdown",
      "source": [
        "### Comparison: SGD Classifier vs Random Forest\n",
        "\n",
        "| Metric                | SGD Classifier (Tuned)                       | Random Forest Classifier (Tuned)          |\n",
        "|-----------------------|----------------------------------------------|-------------------------------------------|\n",
        "| Accuracy              | ~91–93%                                      |  97%+                                     |\n",
        "| Precision (avg)       | Medium                                       |  High                                     |\n",
        "| Recall (avg)          | Good (fast detection)                        |  Very High                                |\n",
        "| F1-Score (avg)        | Moderate-High                                |  High                                     |\n",
        "| Training Time         |  Very Fast                                 | Slower (depends on number of trees)       |\n",
        "| Inference Time        |  Very Fast                                 | Fast                                       |\n",
        "| Hyperparameter Tuning| Alpha, Penalty                               | n_estimators, max_depth, max_features     |\n",
        "| Strengths             | Works well with large, sparse data          | Robust, high accuracy, handles noise well |\n",
        "| Weaknesses            | Needs feature scaling, sensitive to tuning  | Slower, higher memory usage               |\n",
        "\n",
        "\n",
        "\n",
        "### OvR vs OvO Strategy Comparison\n",
        "\n",
        "| Aspect                    | OvR (One-vs-Rest)                              | OvO (One-vs-One)                                |\n",
        "|---------------------------|-----------------------------------------------|-------------------------------------------------|\n",
        "| Full Name                 | One-vs-Rest                                   | One-vs-One                                      |\n",
        "| Number of Classifiers     | One per class (10 for MNIST)                  | One per pair (45 for MNIST)                    |\n",
        "| Training Time             |  Fast                                        | Slower (more classifiers)                      |\n",
        "| Inference Time            |  Fast                                        | Slower                                          |\n",
        "| When to Use               | When classes are well-separated               | When classes are overlapping/complex           |\n",
        "| Accuracy                  | Slightly lower                                |  Higher                                       |\n",
        "| Implementation Simplicity|  Simple                                      | More complex                                   |\n"
      ],
      "metadata": {
        "id": "tVcbW4lWa85Z"
      }
    },
    {
      "cell_type": "markdown",
      "source": [
        "\n",
        "\n",
        "---\n",
        "\n"
      ],
      "metadata": {
        "id": "jkywWGAwcaF1"
      }
    },
    {
      "cell_type": "markdown",
      "metadata": {
        "id": "nnomzpV_WqE6"
      },
      "source": [
        "# **MNIST Digit Recognition Project:**"
      ]
    },
    {
      "cell_type": "markdown",
      "metadata": {
        "id": "Tp16qpDguG9o"
      },
      "source": [
        "-> Project Goal\n",
        "\n",
        "Classify handwritten digits (0–9) from the MNIST dataset using:\n",
        "\n",
        " - SGDClassifier and RandomForestClassifier\n",
        "\n",
        " - Evaluate with confusion matrix, classification report\n",
        "\n",
        " - Analyze and visualize errors\n",
        "\n",
        " - Deploy as a Gradio web app\n",
        "\n",
        " - Achieve ≥95% accuracy\n",
        "\n",
        "\n"
      ]
    },
    {
      "cell_type": "markdown",
      "metadata": {
        "id": "tGSOGhd1m4Y0"
      },
      "source": [
        "## Step 1: Import Required Libraries"
      ]
    },
    {
      "cell_type": "code",
      "execution_count": 2,
      "metadata": {
        "id": "Ln7CzWcaMdu_"
      },
      "outputs": [],
      "source": [
        "import numpy as np\n",
        "import matplotlib.pyplot as plt\n",
        "from sklearn.datasets import fetch_openml\n",
        "from sklearn.model_selection import train_test_split, GridSearchCV\n",
        "from sklearn.linear_model import SGDClassifier\n",
        "from sklearn.ensemble import RandomForestClassifier\n",
        "from sklearn.preprocessing import StandardScaler\n",
        "from sklearn.metrics import classification_report, confusion_matrix, ConfusionMatrixDisplay\n",
        "import gradio as gr\n"
      ]
    },
    {
      "cell_type": "markdown",
      "metadata": {
        "id": "367POj0yrLf9"
      },
      "source": [
        "## Step 2: Load the MNIST Dataset"
      ]
    },
    {
      "cell_type": "code",
      "execution_count": 3,
      "metadata": {
        "colab": {
          "base_uri": "https://localhost:8080/"
        },
        "id": "lySKMCxnrNGC",
        "outputId": "67b6bd52-c646-4387-f50f-4b38faf0ccca"
      },
      "outputs": [
        {
          "output_type": "stream",
          "name": "stdout",
          "text": [
            "Shape of X: (70000, 784)\n",
            "Shape of y: (70000,)\n"
          ]
        }
      ],
      "source": [
        "mnist = fetch_openml('mnist_784', version=1, as_frame=False)\n",
        "X, y = mnist[\"data\"], mnist[\"target\"].astype(np.uint8)\n",
        "print(\"Shape of X:\", X.shape)\n",
        "print(\"Shape of y:\", y.shape)\n"
      ]
    },
    {
      "cell_type": "markdown",
      "source": [
        "*To load 70,000 handwritten digit images (28x28 = 784 features per sample) and their labels (0–9).\n",
        "We convert labels to uint8 for compatibility with classification models.*"
      ],
      "metadata": {
        "id": "IhDT6KMrpPeF"
      }
    },
    {
      "cell_type": "markdown",
      "metadata": {
        "id": "Gh_-uITlrXWG"
      },
      "source": [
        "## Step 3: Split into Training and Testing Sets"
      ]
    },
    {
      "cell_type": "code",
      "execution_count": 4,
      "metadata": {
        "id": "PIlrSrWyrY9X"
      },
      "outputs": [],
      "source": [
        "X_train, X_test, y_train, y_test = train_test_split(X, y, test_size=10000, random_state=42, stratify=y)\n"
      ]
    },
    {
      "cell_type": "markdown",
      "source": [
        "*To split the dataset into 60k training and 10k testing samples, ensuring balanced class distribution using stratify=y.*"
      ],
      "metadata": {
        "id": "vshnUuvYpyhV"
      }
    },
    {
      "cell_type": "markdown",
      "metadata": {
        "id": "1E0_HTjor5N1"
      },
      "source": [
        "## Step 4: Preprocess Data (for SGD)"
      ]
    },
    {
      "cell_type": "code",
      "execution_count": 5,
      "metadata": {
        "id": "iwV8WMXFr-0U"
      },
      "outputs": [],
      "source": [
        "scaler = StandardScaler()\n",
        "X_train_scaled = scaler.fit_transform(X_train.astype(np.float64))\n",
        "X_test_scaled = scaler.transform(X_test.astype(np.float64))\n"
      ]
    },
    {
      "cell_type": "markdown",
      "source": [
        "\n",
        "\n",
        "*   *SGDClassifier requires features on similar scales for optimal convergence.*\n",
        "*   *StandardScaler subtracts the mean and scales to unit variance.*\n",
        "\n"
      ],
      "metadata": {
        "id": "BdolN37Pp5iK"
      }
    },
    {
      "cell_type": "markdown",
      "metadata": {
        "id": "YyRyXO2rsFvR"
      },
      "source": [
        "## Step 5: Step 5: Train Default Models"
      ]
    },
    {
      "cell_type": "code",
      "execution_count": 6,
      "metadata": {
        "colab": {
          "base_uri": "https://localhost:8080/",
          "height": 80
        },
        "id": "lCzuz4-rsXtb",
        "outputId": "4d44ec74-8b32-4f33-f045-f54039ecd998"
      },
      "outputs": [
        {
          "output_type": "execute_result",
          "data": {
            "text/plain": [
              "RandomForestClassifier(random_state=42)"
            ],
            "text/html": [
              "<style>#sk-container-id-1 {\n",
              "  /* Definition of color scheme common for light and dark mode */\n",
              "  --sklearn-color-text: #000;\n",
              "  --sklearn-color-text-muted: #666;\n",
              "  --sklearn-color-line: gray;\n",
              "  /* Definition of color scheme for unfitted estimators */\n",
              "  --sklearn-color-unfitted-level-0: #fff5e6;\n",
              "  --sklearn-color-unfitted-level-1: #f6e4d2;\n",
              "  --sklearn-color-unfitted-level-2: #ffe0b3;\n",
              "  --sklearn-color-unfitted-level-3: chocolate;\n",
              "  /* Definition of color scheme for fitted estimators */\n",
              "  --sklearn-color-fitted-level-0: #f0f8ff;\n",
              "  --sklearn-color-fitted-level-1: #d4ebff;\n",
              "  --sklearn-color-fitted-level-2: #b3dbfd;\n",
              "  --sklearn-color-fitted-level-3: cornflowerblue;\n",
              "\n",
              "  /* Specific color for light theme */\n",
              "  --sklearn-color-text-on-default-background: var(--sg-text-color, var(--theme-code-foreground, var(--jp-content-font-color1, black)));\n",
              "  --sklearn-color-background: var(--sg-background-color, var(--theme-background, var(--jp-layout-color0, white)));\n",
              "  --sklearn-color-border-box: var(--sg-text-color, var(--theme-code-foreground, var(--jp-content-font-color1, black)));\n",
              "  --sklearn-color-icon: #696969;\n",
              "\n",
              "  @media (prefers-color-scheme: dark) {\n",
              "    /* Redefinition of color scheme for dark theme */\n",
              "    --sklearn-color-text-on-default-background: var(--sg-text-color, var(--theme-code-foreground, var(--jp-content-font-color1, white)));\n",
              "    --sklearn-color-background: var(--sg-background-color, var(--theme-background, var(--jp-layout-color0, #111)));\n",
              "    --sklearn-color-border-box: var(--sg-text-color, var(--theme-code-foreground, var(--jp-content-font-color1, white)));\n",
              "    --sklearn-color-icon: #878787;\n",
              "  }\n",
              "}\n",
              "\n",
              "#sk-container-id-1 {\n",
              "  color: var(--sklearn-color-text);\n",
              "}\n",
              "\n",
              "#sk-container-id-1 pre {\n",
              "  padding: 0;\n",
              "}\n",
              "\n",
              "#sk-container-id-1 input.sk-hidden--visually {\n",
              "  border: 0;\n",
              "  clip: rect(1px 1px 1px 1px);\n",
              "  clip: rect(1px, 1px, 1px, 1px);\n",
              "  height: 1px;\n",
              "  margin: -1px;\n",
              "  overflow: hidden;\n",
              "  padding: 0;\n",
              "  position: absolute;\n",
              "  width: 1px;\n",
              "}\n",
              "\n",
              "#sk-container-id-1 div.sk-dashed-wrapped {\n",
              "  border: 1px dashed var(--sklearn-color-line);\n",
              "  margin: 0 0.4em 0.5em 0.4em;\n",
              "  box-sizing: border-box;\n",
              "  padding-bottom: 0.4em;\n",
              "  background-color: var(--sklearn-color-background);\n",
              "}\n",
              "\n",
              "#sk-container-id-1 div.sk-container {\n",
              "  /* jupyter's `normalize.less` sets `[hidden] { display: none; }`\n",
              "     but bootstrap.min.css set `[hidden] { display: none !important; }`\n",
              "     so we also need the `!important` here to be able to override the\n",
              "     default hidden behavior on the sphinx rendered scikit-learn.org.\n",
              "     See: https://github.com/scikit-learn/scikit-learn/issues/21755 */\n",
              "  display: inline-block !important;\n",
              "  position: relative;\n",
              "}\n",
              "\n",
              "#sk-container-id-1 div.sk-text-repr-fallback {\n",
              "  display: none;\n",
              "}\n",
              "\n",
              "div.sk-parallel-item,\n",
              "div.sk-serial,\n",
              "div.sk-item {\n",
              "  /* draw centered vertical line to link estimators */\n",
              "  background-image: linear-gradient(var(--sklearn-color-text-on-default-background), var(--sklearn-color-text-on-default-background));\n",
              "  background-size: 2px 100%;\n",
              "  background-repeat: no-repeat;\n",
              "  background-position: center center;\n",
              "}\n",
              "\n",
              "/* Parallel-specific style estimator block */\n",
              "\n",
              "#sk-container-id-1 div.sk-parallel-item::after {\n",
              "  content: \"\";\n",
              "  width: 100%;\n",
              "  border-bottom: 2px solid var(--sklearn-color-text-on-default-background);\n",
              "  flex-grow: 1;\n",
              "}\n",
              "\n",
              "#sk-container-id-1 div.sk-parallel {\n",
              "  display: flex;\n",
              "  align-items: stretch;\n",
              "  justify-content: center;\n",
              "  background-color: var(--sklearn-color-background);\n",
              "  position: relative;\n",
              "}\n",
              "\n",
              "#sk-container-id-1 div.sk-parallel-item {\n",
              "  display: flex;\n",
              "  flex-direction: column;\n",
              "}\n",
              "\n",
              "#sk-container-id-1 div.sk-parallel-item:first-child::after {\n",
              "  align-self: flex-end;\n",
              "  width: 50%;\n",
              "}\n",
              "\n",
              "#sk-container-id-1 div.sk-parallel-item:last-child::after {\n",
              "  align-self: flex-start;\n",
              "  width: 50%;\n",
              "}\n",
              "\n",
              "#sk-container-id-1 div.sk-parallel-item:only-child::after {\n",
              "  width: 0;\n",
              "}\n",
              "\n",
              "/* Serial-specific style estimator block */\n",
              "\n",
              "#sk-container-id-1 div.sk-serial {\n",
              "  display: flex;\n",
              "  flex-direction: column;\n",
              "  align-items: center;\n",
              "  background-color: var(--sklearn-color-background);\n",
              "  padding-right: 1em;\n",
              "  padding-left: 1em;\n",
              "}\n",
              "\n",
              "\n",
              "/* Toggleable style: style used for estimator/Pipeline/ColumnTransformer box that is\n",
              "clickable and can be expanded/collapsed.\n",
              "- Pipeline and ColumnTransformer use this feature and define the default style\n",
              "- Estimators will overwrite some part of the style using the `sk-estimator` class\n",
              "*/\n",
              "\n",
              "/* Pipeline and ColumnTransformer style (default) */\n",
              "\n",
              "#sk-container-id-1 div.sk-toggleable {\n",
              "  /* Default theme specific background. It is overwritten whether we have a\n",
              "  specific estimator or a Pipeline/ColumnTransformer */\n",
              "  background-color: var(--sklearn-color-background);\n",
              "}\n",
              "\n",
              "/* Toggleable label */\n",
              "#sk-container-id-1 label.sk-toggleable__label {\n",
              "  cursor: pointer;\n",
              "  display: flex;\n",
              "  width: 100%;\n",
              "  margin-bottom: 0;\n",
              "  padding: 0.5em;\n",
              "  box-sizing: border-box;\n",
              "  text-align: center;\n",
              "  align-items: start;\n",
              "  justify-content: space-between;\n",
              "  gap: 0.5em;\n",
              "}\n",
              "\n",
              "#sk-container-id-1 label.sk-toggleable__label .caption {\n",
              "  font-size: 0.6rem;\n",
              "  font-weight: lighter;\n",
              "  color: var(--sklearn-color-text-muted);\n",
              "}\n",
              "\n",
              "#sk-container-id-1 label.sk-toggleable__label-arrow:before {\n",
              "  /* Arrow on the left of the label */\n",
              "  content: \"▸\";\n",
              "  float: left;\n",
              "  margin-right: 0.25em;\n",
              "  color: var(--sklearn-color-icon);\n",
              "}\n",
              "\n",
              "#sk-container-id-1 label.sk-toggleable__label-arrow:hover:before {\n",
              "  color: var(--sklearn-color-text);\n",
              "}\n",
              "\n",
              "/* Toggleable content - dropdown */\n",
              "\n",
              "#sk-container-id-1 div.sk-toggleable__content {\n",
              "  max-height: 0;\n",
              "  max-width: 0;\n",
              "  overflow: hidden;\n",
              "  text-align: left;\n",
              "  /* unfitted */\n",
              "  background-color: var(--sklearn-color-unfitted-level-0);\n",
              "}\n",
              "\n",
              "#sk-container-id-1 div.sk-toggleable__content.fitted {\n",
              "  /* fitted */\n",
              "  background-color: var(--sklearn-color-fitted-level-0);\n",
              "}\n",
              "\n",
              "#sk-container-id-1 div.sk-toggleable__content pre {\n",
              "  margin: 0.2em;\n",
              "  border-radius: 0.25em;\n",
              "  color: var(--sklearn-color-text);\n",
              "  /* unfitted */\n",
              "  background-color: var(--sklearn-color-unfitted-level-0);\n",
              "}\n",
              "\n",
              "#sk-container-id-1 div.sk-toggleable__content.fitted pre {\n",
              "  /* unfitted */\n",
              "  background-color: var(--sklearn-color-fitted-level-0);\n",
              "}\n",
              "\n",
              "#sk-container-id-1 input.sk-toggleable__control:checked~div.sk-toggleable__content {\n",
              "  /* Expand drop-down */\n",
              "  max-height: 200px;\n",
              "  max-width: 100%;\n",
              "  overflow: auto;\n",
              "}\n",
              "\n",
              "#sk-container-id-1 input.sk-toggleable__control:checked~label.sk-toggleable__label-arrow:before {\n",
              "  content: \"▾\";\n",
              "}\n",
              "\n",
              "/* Pipeline/ColumnTransformer-specific style */\n",
              "\n",
              "#sk-container-id-1 div.sk-label input.sk-toggleable__control:checked~label.sk-toggleable__label {\n",
              "  color: var(--sklearn-color-text);\n",
              "  background-color: var(--sklearn-color-unfitted-level-2);\n",
              "}\n",
              "\n",
              "#sk-container-id-1 div.sk-label.fitted input.sk-toggleable__control:checked~label.sk-toggleable__label {\n",
              "  background-color: var(--sklearn-color-fitted-level-2);\n",
              "}\n",
              "\n",
              "/* Estimator-specific style */\n",
              "\n",
              "/* Colorize estimator box */\n",
              "#sk-container-id-1 div.sk-estimator input.sk-toggleable__control:checked~label.sk-toggleable__label {\n",
              "  /* unfitted */\n",
              "  background-color: var(--sklearn-color-unfitted-level-2);\n",
              "}\n",
              "\n",
              "#sk-container-id-1 div.sk-estimator.fitted input.sk-toggleable__control:checked~label.sk-toggleable__label {\n",
              "  /* fitted */\n",
              "  background-color: var(--sklearn-color-fitted-level-2);\n",
              "}\n",
              "\n",
              "#sk-container-id-1 div.sk-label label.sk-toggleable__label,\n",
              "#sk-container-id-1 div.sk-label label {\n",
              "  /* The background is the default theme color */\n",
              "  color: var(--sklearn-color-text-on-default-background);\n",
              "}\n",
              "\n",
              "/* On hover, darken the color of the background */\n",
              "#sk-container-id-1 div.sk-label:hover label.sk-toggleable__label {\n",
              "  color: var(--sklearn-color-text);\n",
              "  background-color: var(--sklearn-color-unfitted-level-2);\n",
              "}\n",
              "\n",
              "/* Label box, darken color on hover, fitted */\n",
              "#sk-container-id-1 div.sk-label.fitted:hover label.sk-toggleable__label.fitted {\n",
              "  color: var(--sklearn-color-text);\n",
              "  background-color: var(--sklearn-color-fitted-level-2);\n",
              "}\n",
              "\n",
              "/* Estimator label */\n",
              "\n",
              "#sk-container-id-1 div.sk-label label {\n",
              "  font-family: monospace;\n",
              "  font-weight: bold;\n",
              "  display: inline-block;\n",
              "  line-height: 1.2em;\n",
              "}\n",
              "\n",
              "#sk-container-id-1 div.sk-label-container {\n",
              "  text-align: center;\n",
              "}\n",
              "\n",
              "/* Estimator-specific */\n",
              "#sk-container-id-1 div.sk-estimator {\n",
              "  font-family: monospace;\n",
              "  border: 1px dotted var(--sklearn-color-border-box);\n",
              "  border-radius: 0.25em;\n",
              "  box-sizing: border-box;\n",
              "  margin-bottom: 0.5em;\n",
              "  /* unfitted */\n",
              "  background-color: var(--sklearn-color-unfitted-level-0);\n",
              "}\n",
              "\n",
              "#sk-container-id-1 div.sk-estimator.fitted {\n",
              "  /* fitted */\n",
              "  background-color: var(--sklearn-color-fitted-level-0);\n",
              "}\n",
              "\n",
              "/* on hover */\n",
              "#sk-container-id-1 div.sk-estimator:hover {\n",
              "  /* unfitted */\n",
              "  background-color: var(--sklearn-color-unfitted-level-2);\n",
              "}\n",
              "\n",
              "#sk-container-id-1 div.sk-estimator.fitted:hover {\n",
              "  /* fitted */\n",
              "  background-color: var(--sklearn-color-fitted-level-2);\n",
              "}\n",
              "\n",
              "/* Specification for estimator info (e.g. \"i\" and \"?\") */\n",
              "\n",
              "/* Common style for \"i\" and \"?\" */\n",
              "\n",
              ".sk-estimator-doc-link,\n",
              "a:link.sk-estimator-doc-link,\n",
              "a:visited.sk-estimator-doc-link {\n",
              "  float: right;\n",
              "  font-size: smaller;\n",
              "  line-height: 1em;\n",
              "  font-family: monospace;\n",
              "  background-color: var(--sklearn-color-background);\n",
              "  border-radius: 1em;\n",
              "  height: 1em;\n",
              "  width: 1em;\n",
              "  text-decoration: none !important;\n",
              "  margin-left: 0.5em;\n",
              "  text-align: center;\n",
              "  /* unfitted */\n",
              "  border: var(--sklearn-color-unfitted-level-1) 1pt solid;\n",
              "  color: var(--sklearn-color-unfitted-level-1);\n",
              "}\n",
              "\n",
              ".sk-estimator-doc-link.fitted,\n",
              "a:link.sk-estimator-doc-link.fitted,\n",
              "a:visited.sk-estimator-doc-link.fitted {\n",
              "  /* fitted */\n",
              "  border: var(--sklearn-color-fitted-level-1) 1pt solid;\n",
              "  color: var(--sklearn-color-fitted-level-1);\n",
              "}\n",
              "\n",
              "/* On hover */\n",
              "div.sk-estimator:hover .sk-estimator-doc-link:hover,\n",
              ".sk-estimator-doc-link:hover,\n",
              "div.sk-label-container:hover .sk-estimator-doc-link:hover,\n",
              ".sk-estimator-doc-link:hover {\n",
              "  /* unfitted */\n",
              "  background-color: var(--sklearn-color-unfitted-level-3);\n",
              "  color: var(--sklearn-color-background);\n",
              "  text-decoration: none;\n",
              "}\n",
              "\n",
              "div.sk-estimator.fitted:hover .sk-estimator-doc-link.fitted:hover,\n",
              ".sk-estimator-doc-link.fitted:hover,\n",
              "div.sk-label-container:hover .sk-estimator-doc-link.fitted:hover,\n",
              ".sk-estimator-doc-link.fitted:hover {\n",
              "  /* fitted */\n",
              "  background-color: var(--sklearn-color-fitted-level-3);\n",
              "  color: var(--sklearn-color-background);\n",
              "  text-decoration: none;\n",
              "}\n",
              "\n",
              "/* Span, style for the box shown on hovering the info icon */\n",
              ".sk-estimator-doc-link span {\n",
              "  display: none;\n",
              "  z-index: 9999;\n",
              "  position: relative;\n",
              "  font-weight: normal;\n",
              "  right: .2ex;\n",
              "  padding: .5ex;\n",
              "  margin: .5ex;\n",
              "  width: min-content;\n",
              "  min-width: 20ex;\n",
              "  max-width: 50ex;\n",
              "  color: var(--sklearn-color-text);\n",
              "  box-shadow: 2pt 2pt 4pt #999;\n",
              "  /* unfitted */\n",
              "  background: var(--sklearn-color-unfitted-level-0);\n",
              "  border: .5pt solid var(--sklearn-color-unfitted-level-3);\n",
              "}\n",
              "\n",
              ".sk-estimator-doc-link.fitted span {\n",
              "  /* fitted */\n",
              "  background: var(--sklearn-color-fitted-level-0);\n",
              "  border: var(--sklearn-color-fitted-level-3);\n",
              "}\n",
              "\n",
              ".sk-estimator-doc-link:hover span {\n",
              "  display: block;\n",
              "}\n",
              "\n",
              "/* \"?\"-specific style due to the `<a>` HTML tag */\n",
              "\n",
              "#sk-container-id-1 a.estimator_doc_link {\n",
              "  float: right;\n",
              "  font-size: 1rem;\n",
              "  line-height: 1em;\n",
              "  font-family: monospace;\n",
              "  background-color: var(--sklearn-color-background);\n",
              "  border-radius: 1rem;\n",
              "  height: 1rem;\n",
              "  width: 1rem;\n",
              "  text-decoration: none;\n",
              "  /* unfitted */\n",
              "  color: var(--sklearn-color-unfitted-level-1);\n",
              "  border: var(--sklearn-color-unfitted-level-1) 1pt solid;\n",
              "}\n",
              "\n",
              "#sk-container-id-1 a.estimator_doc_link.fitted {\n",
              "  /* fitted */\n",
              "  border: var(--sklearn-color-fitted-level-1) 1pt solid;\n",
              "  color: var(--sklearn-color-fitted-level-1);\n",
              "}\n",
              "\n",
              "/* On hover */\n",
              "#sk-container-id-1 a.estimator_doc_link:hover {\n",
              "  /* unfitted */\n",
              "  background-color: var(--sklearn-color-unfitted-level-3);\n",
              "  color: var(--sklearn-color-background);\n",
              "  text-decoration: none;\n",
              "}\n",
              "\n",
              "#sk-container-id-1 a.estimator_doc_link.fitted:hover {\n",
              "  /* fitted */\n",
              "  background-color: var(--sklearn-color-fitted-level-3);\n",
              "}\n",
              "</style><div id=\"sk-container-id-1\" class=\"sk-top-container\"><div class=\"sk-text-repr-fallback\"><pre>RandomForestClassifier(random_state=42)</pre><b>In a Jupyter environment, please rerun this cell to show the HTML representation or trust the notebook. <br />On GitHub, the HTML representation is unable to render, please try loading this page with nbviewer.org.</b></div><div class=\"sk-container\" hidden><div class=\"sk-item\"><div class=\"sk-estimator fitted sk-toggleable\"><input class=\"sk-toggleable__control sk-hidden--visually\" id=\"sk-estimator-id-1\" type=\"checkbox\" checked><label for=\"sk-estimator-id-1\" class=\"sk-toggleable__label fitted sk-toggleable__label-arrow\"><div><div>RandomForestClassifier</div></div><div><a class=\"sk-estimator-doc-link fitted\" rel=\"noreferrer\" target=\"_blank\" href=\"https://scikit-learn.org/1.6/modules/generated/sklearn.ensemble.RandomForestClassifier.html\">?<span>Documentation for RandomForestClassifier</span></a><span class=\"sk-estimator-doc-link fitted\">i<span>Fitted</span></span></div></label><div class=\"sk-toggleable__content fitted\"><pre>RandomForestClassifier(random_state=42)</pre></div> </div></div></div></div>"
            ]
          },
          "metadata": {},
          "execution_count": 6
        }
      ],
      "source": [
        "sgd_clf = SGDClassifier(loss='hinge', random_state=42)\n",
        "sgd_clf.fit(X_train_scaled, y_train)\n",
        "\n",
        "rf_clf = RandomForestClassifier(n_estimators=100, random_state=42)\n",
        "rf_clf.fit(X_train, y_train)"
      ]
    },
    {
      "cell_type": "markdown",
      "source": [
        "\n",
        "\n",
        "*   *SGDClassifier (hinge loss) mimics a linear SVM; efficient for large datasets.*\n",
        "*   *RandomForestClassifier uses an ensemble of decision trees for high accuracy.*\n",
        "\n"
      ],
      "metadata": {
        "id": "N31kkJTiqWqA"
      }
    },
    {
      "cell_type": "markdown",
      "metadata": {
        "id": "xe8enicqscsr"
      },
      "source": [
        "## Step 6: Evaluate Default Models\n",
        "\n"
      ]
    },
    {
      "cell_type": "code",
      "execution_count": 8,
      "metadata": {
        "colab": {
          "base_uri": "https://localhost:8080/"
        },
        "id": "xAGTRgpisexA",
        "outputId": "21ca3a1e-2ed5-4ae6-88a2-dd5e6a7a1312"
      },
      "outputs": [
        {
          "output_type": "stream",
          "name": "stdout",
          "text": [
            "Default SGD Classifier:\n",
            "               precision    recall  f1-score   support\n",
            "\n",
            "           0       0.97      0.94      0.95       986\n",
            "           1       0.98      0.96      0.97      1125\n",
            "           2       0.93      0.88      0.91       999\n",
            "           3       0.92      0.85      0.88      1020\n",
            "           4       0.94      0.88      0.91       975\n",
            "           5       0.90      0.83      0.86       902\n",
            "           6       0.96      0.94      0.95       982\n",
            "           7       0.95      0.92      0.93      1042\n",
            "           8       0.66      0.94      0.78       975\n",
            "           9       0.91      0.86      0.88       994\n",
            "\n",
            "    accuracy                           0.90     10000\n",
            "   macro avg       0.91      0.90      0.90     10000\n",
            "weighted avg       0.91      0.90      0.91     10000\n",
            "\n",
            "Default Random Forest Classifier:\n",
            "               precision    recall  f1-score   support\n",
            "\n",
            "           0       0.98      0.99      0.98       986\n",
            "           1       0.99      0.99      0.99      1125\n",
            "           2       0.97      0.97      0.97       999\n",
            "           3       0.96      0.95      0.96      1020\n",
            "           4       0.97      0.96      0.97       975\n",
            "           5       0.97      0.96      0.96       902\n",
            "           6       0.97      0.99      0.98       982\n",
            "           7       0.97      0.97      0.97      1042\n",
            "           8       0.96      0.95      0.96       975\n",
            "           9       0.94      0.95      0.94       994\n",
            "\n",
            "    accuracy                           0.97     10000\n",
            "   macro avg       0.97      0.97      0.97     10000\n",
            "weighted avg       0.97      0.97      0.97     10000\n",
            "\n"
          ]
        }
      ],
      "source": [
        "\n",
        "y_pred_sgd = sgd_clf.predict(X_test_scaled)\n",
        "y_pred_rf = rf_clf.predict(X_test)\n",
        "\n",
        "print(\"Default SGD Classifier:\\n\", classification_report(y_test, y_pred_sgd))\n",
        "print(\"Default Random Forest Classifier:\\n\", classification_report(y_test, y_pred_rf))\n"
      ]
    },
    {
      "cell_type": "markdown",
      "source": [
        "*To compare the initial performance of both models before tuning. classification_report shows accuracy, precision, recall, F1-score for each digit class. **\n",
        "*"
      ],
      "metadata": {
        "id": "fynjjVuarLjT"
      }
    },
    {
      "cell_type": "markdown",
      "metadata": {
        "id": "TXRFuGSgsz6D"
      },
      "source": [
        "## Step 7: Hyperparameter Tuning - Random Forest"
      ]
    },
    {
      "cell_type": "code",
      "execution_count": 9,
      "metadata": {
        "colab": {
          "base_uri": "https://localhost:8080/"
        },
        "id": "yUgMkNmYtFjG",
        "outputId": "a2474d22-94fd-49c5-ec6c-d393a01fe248"
      },
      "outputs": [
        {
          "metadata": {
            "tags": null
          },
          "name": "stdout",
          "output_type": "stream",
          "text": [
            "Fitting 3 folds for each of 18 candidates, totalling 54 fits\n",
            "Best RF Params: {'max_depth': None, 'max_features': 'sqrt', 'n_estimators': 150}\n",
            "Best RF CV Accuracy: 0.9667833333333333\n",
            "Tuned Random Forest Test Report:\n",
            "               precision    recall  f1-score   support\n",
            "\n",
            "           0       0.97      0.99      0.98       986\n",
            "           1       0.99      0.99      0.99      1125\n",
            "           2       0.97      0.97      0.97       999\n",
            "           3       0.96      0.95      0.96      1020\n",
            "           4       0.97      0.97      0.97       975\n",
            "           5       0.97      0.96      0.97       902\n",
            "           6       0.97      0.98      0.98       982\n",
            "           7       0.97      0.97      0.97      1042\n",
            "           8       0.96      0.96      0.96       975\n",
            "           9       0.94      0.95      0.94       994\n",
            "\n",
            "    accuracy                           0.97     10000\n",
            "   macro avg       0.97      0.97      0.97     10000\n",
            "weighted avg       0.97      0.97      0.97     10000\n",
            "\n"
          ]
        }
      ],
      "source": [
        "rf_param_grid = {\n",
        "    \"n_estimators\": [50, 100, 150],\n",
        "    \"max_depth\": [None, 10, 20],\n",
        "    \"max_features\": [\"sqrt\", \"log2\"]\n",
        "}\n",
        "rf_grid_search = GridSearchCV(RandomForestClassifier(random_state=42), rf_param_grid, cv=3, scoring=\"accuracy\", n_jobs=-1, verbose=1)\n",
        "rf_grid_search.fit(X_train, y_train)\n",
        "\n",
        "print(\"Best RF Params:\", rf_grid_search.best_params_)\n",
        "print(\"Best RF CV Accuracy:\", rf_grid_search.best_score_)\n",
        "\n",
        "best_rf = rf_grid_search.best_estimator_\n",
        "y_pred_rf_best = best_rf.predict(X_test)\n",
        "print(\"Tuned Random Forest Test Report:\\n\", classification_report(y_test, y_pred_rf_best))"
      ]
    },
    {
      "cell_type": "markdown",
      "source": [
        "To find the best combination of model parameters by testing multiple configurations and validating using cross-validation.\n",
        "\n",
        "    RandomForest: tuning n_estimators, max_depth, max_features\n",
        "\n",
        "\n",
        "This increases test accuracy and generalization."
      ],
      "metadata": {
        "id": "zlB6cgQTrwvc"
      }
    },
    {
      "cell_type": "markdown",
      "metadata": {
        "id": "vmcP1T3BtP0u"
      },
      "source": [
        "## Step 8: Hyperparameter Tuning - SGDClassifier"
      ]
    },
    {
      "cell_type": "code",
      "execution_count": 10,
      "metadata": {
        "colab": {
          "base_uri": "https://localhost:8080/"
        },
        "id": "Kzin6J6ztoIz",
        "outputId": "dd8147e2-bbdd-4e3e-f099-17e23ed64c3f"
      },
      "outputs": [
        {
          "output_type": "stream",
          "name": "stdout",
          "text": [
            "Fitting 3 folds for each of 2 candidates, totalling 6 fits\n",
            "Best SGD Params: {'alpha': 0.001, 'max_iter': 1000, 'penalty': 'elasticnet'}\n",
            "Best SGD CV Accuracy: 0.9062666666666667\n",
            "Tuned SGD Test Report:\n",
            "               precision    recall  f1-score   support\n",
            "\n",
            "           0       0.94      0.96      0.95       986\n",
            "           1       0.96      0.97      0.97      1125\n",
            "           2       0.91      0.90      0.90       999\n",
            "           3       0.89      0.85      0.87      1020\n",
            "           4       0.93      0.91      0.92       975\n",
            "           5       0.86      0.85      0.85       902\n",
            "           6       0.94      0.95      0.94       982\n",
            "           7       0.94      0.93      0.93      1042\n",
            "           8       0.85      0.88      0.86       975\n",
            "           9       0.87      0.90      0.88       994\n",
            "\n",
            "    accuracy                           0.91     10000\n",
            "   macro avg       0.91      0.91      0.91     10000\n",
            "weighted avg       0.91      0.91      0.91     10000\n",
            "\n"
          ]
        }
      ],
      "source": [
        "sgd_param_grid = {\n",
        "    \"alpha\": [1e-3],                     # reduced\n",
        "    \"penalty\": [\"l2\", \"elasticnet\"],     # reduced\n",
        "    \"max_iter\": [1000]\n",
        "}\n",
        "sgd_grid_search = GridSearchCV(SGDClassifier(loss=\"hinge\", random_state=42), sgd_param_grid, cv=3, scoring=\"accuracy\", n_jobs=-1, verbose=1)\n",
        "sgd_grid_search.fit(X_train_scaled, y_train)\n",
        "\n",
        "print(\"Best SGD Params:\", sgd_grid_search.best_params_)\n",
        "print(\"Best SGD CV Accuracy:\", sgd_grid_search.best_score_)\n",
        "\n",
        "best_sgd = sgd_grid_search.best_estimator_\n",
        "y_pred_sgd_best = best_sgd.predict(X_test_scaled)\n",
        "print(\"Tuned SGD Test Report:\\n\", classification_report(y_test, y_pred_sgd_best))\n",
        "\n"
      ]
    },
    {
      "cell_type": "markdown",
      "source": [
        "To find the best combination of model parameters by testing multiple configurations and validating using cross-validation.\n",
        "\n",
        "\n",
        "    SGDClassifier: tuning alpha, penalty, max_iter\n",
        "\n",
        "This increases test accuracy and generalization."
      ],
      "metadata": {
        "id": "GSCCclhxr-sA"
      }
    },
    {
      "cell_type": "markdown",
      "metadata": {
        "id": "49D6eFIBtz_C"
      },
      "source": [
        "## Step 9: Confusion Matrix for Best Random Forest"
      ]
    },
    {
      "cell_type": "code",
      "execution_count": 11,
      "metadata": {
        "id": "7bbGhNyAy6fs",
        "colab": {
          "base_uri": "https://localhost:8080/",
          "height": 467
        },
        "outputId": "25481dcd-0dbe-452b-c158-56a017604fc9"
      },
      "outputs": [
        {
          "output_type": "display_data",
          "data": {
            "text/plain": [
              "<Figure size 640x480 with 2 Axes>"
            ],
            "image/png": "[encoded data removed]"
          },
          "metadata": {}
        }
      ],
      "source": [
        "conf_rf = confusion_matrix(y_test, y_pred_rf_best)\n",
        "disp = ConfusionMatrixDisplay(confusion_matrix=conf_rf)\n",
        "disp.plot(cmap='Blues', xticks_rotation='vertical')\n",
        "plt.title(\"Best Random Forest Confusion Matrix\")\n",
        "plt.show()"
      ]
    },
    {
      "cell_type": "markdown",
      "source": [
        "*To visualize which digits are most often misclassified and where the model is struggling (e.g., 9 vs 4). Useful for error analysis.*"
      ],
      "metadata": {
        "id": "a2Kx5c3hsTty"
      }
    },
    {
      "cell_type": "markdown",
      "metadata": {
        "id": "q1vxh-PIy-9r"
      },
      "source": [
        "## Step 10: Visualize Worst Misclassifications"
      ]
    },
    {
      "cell_type": "code",
      "execution_count": 12,
      "metadata": {
        "id": "UBPCrSFyzBPM",
        "colab": {
          "base_uri": "https://localhost:8080/",
          "height": 1000
        },
        "outputId": "57573411-a705-4ede-ca77-a4c10e1002e4"
      },
      "outputs": [
        {
          "output_type": "display_data",
          "data": {
            "text/plain": [
              "<Figure size 640x480 with 1 Axes>"
            ],
            "image/png": "[encoded data removed]"
          },
          "metadata": {}
        },
        {
          "output_type": "display_data",
          "data": {
            "text/plain": [
              "<Figure size 640x480 with 1 Axes>"
            ],
            "image/png": "[encoded data removed]"
          },
          "metadata": {}
        },
        {
          "output_type": "display_data",
          "data": {
            "text/plain": [
              "<Figure size 640x480 with 1 Axes>"
            ],
            "image/png": "[encoded data removed]"
          },
          "metadata": {}
        },
        {
          "output_type": "display_data",
          "data": {
            "text/plain": [
              "<Figure size 640x480 with 1 Axes>"
            ],
            "image/png": "[encoded data removed]"
          },
          "metadata": {}
        },
        {
          "output_type": "display_data",
          "data": {
            "text/plain": [
              "<Figure size 640x480 with 1 Axes>"
            ],
            "image/png": "[encoded data removed]"
          },
          "metadata": {}
        }
      ],
      "source": [
        "misclassified = (y_pred_rf_best != y_test)\n",
        "X_mis = X_test[misclassified]\n",
        "y_mis_true = y_test[misclassified]\n",
        "y_mis_pred = y_pred_rf_best[misclassified]\n",
        "\n",
        "for i in range(5):\n",
        "    plt.imshow(X_mis[i].reshape(28, 28), cmap=\"gray\")\n",
        "    plt.title(f\"True: {y_mis_true[i]}, Pred: {y_mis_pred[i]}\")\n",
        "    plt.axis(\"off\")\n",
        "    plt.show()"
      ]
    },
    {
      "cell_type": "markdown",
      "source": [
        "*To display actual images the model misclassified. Helps you identify ambiguous cases or areas for improvement (e.g., image blur, overlap).*"
      ],
      "metadata": {
        "id": "XfCtuc14scyD"
      }
    },
    {
      "cell_type": "markdown",
      "metadata": {
        "id": "L79okMPdzIbo"
      },
      "source": [
        "## Step 11: Gradio App Deployment using Best Random Forest"
      ]
    },
    {
      "cell_type": "code",
      "execution_count": 13,
      "metadata": {
        "id": "E2wxyjAKzOKZ"
      },
      "outputs": [],
      "source": [
        "import numpy as np\n",
        "from PIL import Image\n",
        "from sklearn.linear_model import SGDClassifier\n",
        "import cv2\n",
        "\n",
        "def predict_digit(image):\n",
        "    # Convert image to grayscale and resize to 28x28\n",
        "    image = image.convert('L')  # convert to grayscale\n",
        "    image = image.resize((28, 28))  # resize to 28x28\n",
        "    image = np.array(image)\n",
        "\n",
        "    # Invert pixel values if needed (MNIST has white digits on black background)\n",
        "    if image.mean() > 127:\n",
        "        image = 255 - image\n",
        "\n",
        "    # Flatten the image and scale to 0-1\n",
        "    image = image.reshape(1, -1) / 255.0\n",
        "\n",
        "    # Predict using your trained model (replace clf with your model)\n",
        "    return clf.predict(image)[0]\n",
        "\n",
        "\n"
      ]
    },
    {
      "cell_type": "markdown",
      "source": [
        "*To build an easy-to-use web interface where users can draw/upload a digit and get a prediction using your trained model. Makes the project interactive and sharable.*"
      ],
      "metadata": {
        "id": "jbHIox_Csuj_"
      }
    },
    {
      "cell_type": "code",
      "execution_count": 14,
      "metadata": {
        "id": "y5ZnSUk81S1X",
        "colab": {
          "base_uri": "https://localhost:8080/",
          "height": 612
        },
        "outputId": "e8815fdf-4793-449a-f360-e203393a9a31"
      },
      "outputs": [
        {
          "output_type": "stream",
          "name": "stdout",
          "text": [
            "Colab notebook detected. To show errors in colab notebook, set debug=True in launch()\n",
            "* Running on public URL: https://38d6d04f8fc8815b90.gradio.live\n",
            "\n",
            "This share link expires in 1 week. For free permanent hosting and GPU upgrades, run `gradio deploy` from the terminal in the working directory to deploy to Hugging Face Spaces (https://huggingface.co/spaces)\n"
          ]
        },
        {
          "output_type": "display_data",
          "data": {
            "text/plain": [
              "<IPython.core.display.HTML object>"
            ],
            "text/html": [
              "<div><iframe src=\"https://38d6d04f8fc8815b90.gradio.live\" width=\"100%\" height=\"500\" allow=\"autoplay; camera; microphone; clipboard-read; clipboard-write;\" frameborder=\"0\" allowfullscreen></iframe></div>"
            ]
          },
          "metadata": {}
        },
        {
          "output_type": "execute_result",
          "data": {
            "text/plain": []
          },
          "metadata": {},
          "execution_count": 14
        }
      ],
      "source": [
        "import gradio as gr\n",
        "\n",
        "interface = gr.Interface(\n",
        "    fn=predict_digit,\n",
        "    inputs=gr.Image(type=\"pil\", image_mode=\"L\", label=\"Upload 28x28 digit image\"),\n",
        "    outputs=gr.Label(),\n",
        "    live=False\n",
        ")\n",
        "\n",
        "interface.launch(share=True)\n"
      ]
    },
    {
      "cell_type": "markdown",
      "source": [
        "# Error Analysis and Improvement on MNIST Classifier"
      ],
      "metadata": {
        "id": "GNlScSLwZsjb"
      }
    },
    {
      "cell_type": "code",
      "source": [
        "# Step 1: Analyze Confusion Matrix to Identify Errors\n",
        "from sklearn.metrics import confusion_matrix, ConfusionMatrixDisplay\n",
        "import seaborn as sns\n",
        "import pandas as pd\n",
        "\n",
        "conf_matrix = confusion_matrix(y_test, y_pred_rf_best)\n",
        "display = ConfusionMatrixDisplay(conf_matrix)\n",
        "display.plot(cmap='Oranges', xticks_rotation=45)\n",
        "plt.title(\"Confusion Matrix - Best RF\")\n",
        "plt.grid(False)\n",
        "plt.show()\n",
        "\n",
        "# Convert confusion matrix to DataFrame for easier inspection\n",
        "conf_df = pd.DataFrame(conf_matrix)\n",
        "conf_df.index.name = 'Actual'\n",
        "conf_df.columns.name = 'Predicted'\n",
        "\n",
        "# Identify Top 3 Misclassifications\n",
        "error_analysis = []\n",
        "for i in range(10):\n",
        "    for j in range(10):\n",
        "        if i != j:\n",
        "            error_analysis.append(((i, j), conf_matrix[i, j]))\n",
        "\n",
        "# Sort errors by frequency\n",
        "sorted_errors = sorted(error_analysis, key=lambda x: x[1], reverse=True)\n",
        "print(\"Top 3 Common Misclassifications:\")\n",
        "for (actual, pred), count in sorted_errors[:3]:\n",
        "    print(f\"{actual} → {pred} : {count} times\")\n",
        "\n",
        "# Step 2: Apply Data Augmentation on Training Data\n",
        "from scipy.ndimage import shift\n",
        "\n",
        "def shift_image(image, dx, dy):\n",
        "    image = image.reshape(28, 28)\n",
        "    shifted = shift(image, [dy, dx], cval=0, mode=\"constant\")\n",
        "    return shifted.reshape(784)\n",
        "\n",
        "# Create augmented data\n",
        "X_augmented = [X_train[i] for i in range(len(X_train))]\n",
        "y_augmented = [y_train[i] for i in range(len(y_train))]\n",
        "\n",
        "for dx, dy in [(-1, 0), (1, 0), (0, -1), (0, 1)]:\n",
        "    for i in range(len(X_train)):\n",
        "        X_augmented.append(shift_image(X_train[i], dx, dy))\n",
        "        y_augmented.append(y_train[i])\n",
        "\n",
        "X_augmented = np.array(X_augmented)\n",
        "y_augmented = np.array(y_augmented)\n",
        "\n",
        "\n",
        "# Step 3: Retrain Classifier\n",
        "rf_clf_aug = RandomForestClassifier(n_estimators=100, random_state=42)\n",
        "rf_clf_aug.fit(X_augmented, y_augmented)\n",
        "\n",
        "y_pred_aug = rf_clf_aug.predict(X_test)\n",
        "\n",
        "# Step 4: Evaluate Performance Before vs After\n",
        "from sklearn.metrics import accuracy_score\n",
        "\n",
        "acc_before = accuracy_score(y_test, y_pred_rf_best)\n",
        "acc_after = accuracy_score(y_test, y_pred_aug)\n",
        "print(f\"Accuracy Before Improvement: {acc_before:.4f}\")\n",
        "print(f\"Accuracy After Augmentation: {acc_after:.4f}\")\n",
        "\n",
        "print(\"\\nClassification Report After Augmentation:\")\n",
        "print(classification_report(y_test, y_pred_aug))\n",
        "\n",
        "\n"
      ],
      "metadata": {
        "id": "2-1lEewfQwBI",
        "colab": {
          "base_uri": "https://localhost:8080/",
          "height": 921
        },
        "outputId": "0cb8875b-b0e1-4293-f0ec-7ce6cbf470ce"
      },
      "execution_count": 18,
      "outputs": [
        {
          "output_type": "display_data",
          "data": {
            "text/plain": [
              "<Figure size 640x480 with 2 Axes>"
            ],
            "image/png": "[encoded data removed]"
          },
          "metadata": {}
        },
        {
          "output_type": "stream",
          "name": "stdout",
          "text": [
            "Top 3 Common Misclassifications:\n",
            "4 → 9 : 23 times\n",
            "8 → 9 : 16 times\n",
            "9 → 3 : 15 times\n",
            "Accuracy Before Improvement: 0.9683\n",
            "Accuracy After Augmentation: 0.9785\n",
            "\n",
            "Classification Report After Augmentation:\n",
            "              precision    recall  f1-score   support\n",
            "\n",
            "           0       0.98      0.99      0.99       986\n",
            "           1       0.99      0.99      0.99      1125\n",
            "           2       0.98      0.98      0.98       999\n",
            "           3       0.98      0.97      0.97      1020\n",
            "           4       0.98      0.97      0.98       975\n",
            "           5       0.99      0.97      0.98       902\n",
            "           6       0.99      0.99      0.99       982\n",
            "           7       0.98      0.98      0.98      1042\n",
            "           8       0.97      0.98      0.97       975\n",
            "           9       0.95      0.96      0.95       994\n",
            "\n",
            "    accuracy                           0.98     10000\n",
            "   macro avg       0.98      0.98      0.98     10000\n",
            "weighted avg       0.98      0.98      0.98     10000\n",
            "\n"
          ]
        }
      ]
    },
    {
      "cell_type": "markdown",
      "source": [
        "# Training/Validation Curves"
      ],
      "metadata": {
        "id": "3DKNT-YDdr3F"
      }
    },
    {
      "cell_type": "code",
      "source": [
        "from sklearn.model_selection import learning_curve\n",
        "import matplotlib.pyplot as plt\n",
        "\n",
        "train_sizes, train_scores, val_scores = learning_curve(\n",
        "    best_rf, X_train, y_train, cv=3, scoring='accuracy',\n",
        "    train_sizes=np.linspace(0.1, 1.0, 10), n_jobs=-1\n",
        ")\n",
        "\n",
        "train_mean = np.mean(train_scores, axis=1)\n",
        "val_mean = np.mean(val_scores, axis=1)\n",
        "\n",
        "plt.plot(train_sizes, train_mean, label=\"Training Accuracy\")\n",
        "plt.plot(train_sizes, val_mean, label=\"Validation Accuracy\")\n",
        "plt.xlabel(\"Training Set Size\")\n",
        "plt.ylabel(\"Accuracy\")\n",
        "plt.title(\"Learning Curve for Random Forest\")\n",
        "plt.legend()\n",
        "plt.grid(True)\n",
        "plt.show()\n"
      ],
      "metadata": {
        "colab": {
          "base_uri": "https://localhost:8080/",
          "height": 472
        },
        "id": "q7u-bT-SxeG8",
        "outputId": "6b519681-efbd-4ff3-c766-6ba5f43736a7"
      },
      "execution_count": 20,
      "outputs": [
        {
          "output_type": "display_data",
          "data": {
            "text/plain": [
              "<Figure size 640x480 with 1 Axes>"
            ],
            "image/png": "[encoded data removed]"
          },
          "metadata": {}
        }
      ]
    },
    {
      "cell_type": "code",
      "source": [],
      "metadata": {
        "id": "udDz_U7sfdyu"
      },
      "execution_count": null,
      "outputs": []
    }
  ],
  "metadata": {
    "colab": {
      "provenance": []
    },
    "kernelspec": {
      "display_name": "Python 3",
      "name": "python3"
    },
    "language_info": {
      "name": "python"
    }
  },
  "nbformat": 4,
  "nbformat_minor": 0
}